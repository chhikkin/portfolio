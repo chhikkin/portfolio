{
 "cells": [
  {
   "cell_type": "code",
   "execution_count": 127,
   "id": "5b7b05f1-1556-4130-859a-5eeddb34fbff",
   "metadata": {},
   "outputs": [],
   "source": [
    "from google.auth.transport.requests import Request\n",
    "from google.oauth2.service_account import Credentials\n",
    "import vertexai\n",
    "\n",
    "key_path = \"/home/ext_rufi_romang_gmail_com/serviceaccount.json\"\n",
    "credentials = Credentials.from_service_account_file(\n",
    "    key_path,\n",
    "    scopes=[\"https://www.googleapis.com/auth/cloud-platform\"]\n",
    ")\n",
    "\n",
    "if credentials.expired:\n",
    "    credentials.refresh(Request())\n",
    "\n",
    "PROJECT_ID = \"cfu-main\"\n",
    "REGION = \"asia-southeast1\"\n",
    "vertexai.init(project=PROJECT_ID, location=REGION, credentials = credentials)"
   ]
  },
  {
   "cell_type": "code",
   "execution_count": 128,
   "id": "0f5fd8e3-573d-49ce-ad2d-b9d051b90deb",
   "metadata": {
    "scrolled": true
   },
   "outputs": [],
   "source": [
    "from langchain.prompts import ChatPromptTemplate\n",
    "from langchain.chains import LLMChain\n",
    "from langchain.chains import SequentialChain\n",
    "\n",
    "from langchain.chat_models import ChatVertexAI\n",
    "from langchain.schema import AIMessage, HumanMessage, SystemMessage\n",
    "llm = ChatVertexAI(model = \"chat-bison\",\n",
    "                   max_output_tokens = 256,\n",
    "                    temperature = 0.0,\n",
    "                    top_p = 0.8,\n",
    "                    top_k = 40,)"
   ]
  },
  {
   "cell_type": "code",
   "execution_count": 129,
   "id": "c9b59d5c-8c17-4fc3-8ebc-b87add582fbf",
   "metadata": {},
   "outputs": [],
   "source": [
    "from langchain.prompts import ChatPromptTemplate\n",
    "from langchain.chains import LLMChain\n",
    "from langchain.chains import SequentialChain"
   ]
  },
  {
   "cell_type": "code",
   "execution_count": 130,
   "id": "1bb39b29-2dfa-4d1f-85ee-95bfb692121b",
   "metadata": {},
   "outputs": [],
   "source": [
    "prompt_1 = ChatPromptTemplate.from_template(\n",
    "    \"Berdasarkan chat, apakah dokter menyapa pasien sebelum sesi konsultasi? Apakah sapaan dokter menggunakan bahasa yang formal atau lebih friendly? Jika iya, tulis iya. Jika tidak, tulis tidak. Tidak perlu dijelaskan secara rinci\"\n",
    "    \"\\n\\n{chat}\")\n",
    "\n",
    "chain_1 = LLMChain(llm=llm, prompt=prompt_1, output_key=\"Sapaan\")"
   ]
  },
  {
   "cell_type": "code",
   "execution_count": 131,
   "id": "9f8ee9b3-4a24-437b-ad8d-456cb8f7e0d9",
   "metadata": {},
   "outputs": [],
   "source": [
    "prompt_2 = ChatPromptTemplate.from_template(\n",
    "    \"Berdasarkan chat, apakah pasien memberikan keluhan? Jika iya, apakah dokter menanggapi keluhan tersebut?, Apakah dokter menanggapi keluhan tersebut? Jika iya, tulis iya. Jika tidak, tulis tidak. Tidak perlu dijelaskan secara rinci\"\n",
    "    \"\\n\\n{chat}\")\n",
    "\n",
    "chain_2 = LLMChain(llm=llm, prompt=prompt_2, output_key=\"Respon_Dokter\")"
   ]
  },
  {
   "cell_type": "code",
   "execution_count": 132,
   "id": "d8fa74fe-93c7-4c7f-9448-8a0a112345fc",
   "metadata": {},
   "outputs": [],
   "source": [
    "prompt_3 = ChatPromptTemplate.from_template(\n",
    "    \"Berdasarkan chat dan respon dokter, Apakah dokter memberikan diagnosis berdasarkan keluhan yang dijelaskan oleh pasien? Apakah dokter memberikan diagnosis berdasarkan keluhan yang dijelaskan oleh pasien? Jika iya, tulis iya. Jika tidak, tulis tidak. Tidak perlu dijelaskan secara rinci\"\n",
    "    \"\\n\\chat: {chat} \\n\\nrespon dokter: {Respon_Dokter}\")\n",
    "\n",
    "chain_3 = LLMChain(llm=llm, prompt=prompt_3, output_key=\"Diagnosis\")"
   ]
  },
  {
   "cell_type": "code",
   "execution_count": 133,
   "id": "f7079e76-fa7b-435a-9149-e93d64166bdc",
   "metadata": {},
   "outputs": [],
   "source": [
    "prompt_4 = ChatPromptTemplate.from_template(\n",
    "    \"Berdasarkan chat dan respon dokter, apakah dokter memberikan saran kepada pasien? Jika iya, apakah saran yang diberikan berkaitan dengan keluhan yang dilakukan? Apakah dokter memberikan saran atau informasi tambahan lain? Jika iya, tulis iya. Jika tidak, tulis tidak. Tidak perlu dijelaskan secara rinci\"\n",
    "    \"\\n\\chat: {chat} \\n\\nrespon dokter: {Respon_Dokter}\")\n",
    "\n",
    "chain_4 = LLMChain(llm=llm, prompt=prompt_4, output_key=\"Saran\")"
   ]
  },
  {
   "cell_type": "code",
   "execution_count": 134,
   "id": "53033999-a596-4ff3-a087-7dfb2af6dc21",
   "metadata": {},
   "outputs": [],
   "source": [
    "prompt_5 = ChatPromptTemplate.from_template(\n",
    "    \"Berdasarkan chat dan respon dokter, apakah dokter memberikan resep kepada pasien? Jika iya, tulis iya. Jika tidak, tulis tidak. Tidak perlu dijelaskan secara rinci\"\n",
    "    \"\\n\\chat: {chat} \\n\\nrespon dokter: {Respon_Dokter}\")\n",
    "\n",
    "chain_5 = LLMChain(llm=llm, prompt=prompt_5, output_key=\"Resep\")"
   ]
  },
  {
   "cell_type": "code",
   "execution_count": 135,
   "id": "3d3121e8-42ec-494b-8225-40de69c7c6c8",
   "metadata": {},
   "outputs": [],
   "source": [
    "prompt_6 = ChatPromptTemplate.from_template(\n",
    "    \"Berdasarkan sapaan, respon dokter, diagnosis, saran, dan resep, buatlah ringkasan mengenai performa dokter.\"\n",
    "    \"\\n\\sapaan: {Sapaan} \\n\\nrespon dokter: {Respon_Dokter} \\n\\n\\ndiagnosis: {Diagnosis} \\n\\n\\n\\nsaran: {Saran} \\n\\n\\n\\n\\nresep: {Resep}\")\n",
    "\n",
    "chain_6 = LLMChain(llm=llm, prompt=prompt_6, output_key=\"Performa\")"
   ]
  },
  {
   "cell_type": "code",
   "execution_count": 136,
   "id": "bd547e85-68ad-4cee-8309-c02214b16ce8",
   "metadata": {},
   "outputs": [],
   "source": [
    "prompt_7 = ChatPromptTemplate.from_template(\n",
    "    \"Berdasarkan 5 hal yg dinilai (output_key), berikan rating kepada dokter 1-10!\"\n",
    "    \"\\n\\nSummary: {Performa}\")\n",
    "\n",
    "chain_7 = LLMChain(llm=llm, prompt=prompt_7, output_key=\"Rate\")"
   ]
  },
  {
   "cell_type": "code",
   "execution_count": 137,
   "id": "efd3cf86-5946-4f8a-ac25-a54f99db449a",
   "metadata": {},
   "outputs": [],
   "source": [
    "chat1 = \"\"\"\n",
    "Dokter: klo bisa ditambah obat minumnya kka \\\n",
    "Pasien: obat apa ya dok? \\\n",
    "Dokter: maaf kk sdh menikah? \\\n",
    "Pasien: Sudah dok.. sedang menyusui \\\n",
    "Dokter: Usia anaknya? \\\n",
    "Pasien: Baru sebulan kurang seminggu dok \\\n",
    "Dokter: obat minumnya ctm 2x1 dimininum jika anaknya ada yang nunggu krn obat ini ngantuk \\\n",
    "Dokter: sama kk mandi PK y \\\n",
    "Pasien: Baik dok... berarti sama ctm ya dok \\\n",
    "Dokter: iy kka \\\n",
    "Pasien: Terimakasih dok.. ?? \\\n",
    "Dokter: hindarin makanan yg membuat kk alergi spt udang \\\n",
    "Dokter: sama 1 lg kka krn kulitnya kka sensitif, bedak sabun mandi body lotion semuanya pakai khusus /spt bayi \\\n",
    "Pasien: Kalau ceterizine sama ctm mending mana dong? Dirumah ada ceterizine. \\\n",
    "Dokter: Krn kk menyusui ctm aja ya \\\n",
    "Pasien: Ada rekomendasi ga dok bedak lotion dan sabun yang bagus? \\\n",
    "Pasien: Baik dok. Jadi ctm aja ya.. \\ \n",
    "Dokter: Pokoknya khusus bayi \\ \n",
    "Pasien: Baik dong... terima kasih dok.. ini sya pake salep ini berapa kalo pakai dok.? \\\n",
    "Dokter: Klo salep bebas mau dipakai berapa kali mis. habis mandi bisa disalepin \\\n",
    "Dokter: hnya pesan aja, jika mau disalepin dilap kering dulu \\ \n",
    "Pasien: Baik dok. Mohon resep dokternya ya dok.. terima kasih banyak ya dokter.. ?? \\\n",
    "Dokter: jngan hbs disalepin ditmpa dgn salep lg, \\\n",
    "\"\"\""
   ]
  },
  {
   "cell_type": "code",
   "execution_count": 138,
   "id": "4a086af7-51e1-4db3-998c-a1c174db7a35",
   "metadata": {},
   "outputs": [],
   "source": [
    "chat2 = \"\"\"\n",
    "Dokter: mau obat ga?\\\n",
    "Pasien: obat apa ya dok? \\\n",
    "Dokter: obat nyamuk \\\n",
    "Pasien: gajelas dokter ya\\\n",
    "Dokter: kenapa \\\n",
    "Pasien: nawarin obat nyamuk \\\n",
    "Dokter: obat minumnya 2x sehari doang \\\n",
    "Dokter: sama harganya 25 ribu \\\n",
    "Pasien: gamau dok, saya sakit kepala \\\n",
    "Dokter: iy kka \\\n",
    "Pasien: Terimakasih dok.. ?? \\\n",
    "\"\"\""
   ]
  },
  {
   "cell_type": "code",
   "execution_count": 139,
   "id": "d828e264-5135-4401-92bb-490d7e06e14e",
   "metadata": {},
   "outputs": [],
   "source": [
    "overall_chain = SequentialChain(\n",
    "    chains=[chain_1, chain_2, chain_3, chain_4, chain_5, chain_6, chain_7],\n",
    "    input_variables = [\"chat\"],\n",
    "    output_variables = [\"Performa\",\"Rate\"],\n",
    "    verbose=True)"
   ]
  },
  {
   "cell_type": "code",
   "execution_count": 140,
   "id": "7afe02a9-f0f2-470b-81ad-5b1c585d1b15",
   "metadata": {},
   "outputs": [
    {
     "name": "stdout",
     "output_type": "stream",
     "text": [
      "\n",
      "\n",
      "\u001b[1m> Entering new SequentialChain chain...\u001b[0m\n",
      "\n",
      "\u001b[1m> Finished chain.\u001b[0m\n"
     ]
    }
   ],
   "source": [
    "consul1 = overall_chain(chat1)"
   ]
  },
  {
   "cell_type": "code",
   "execution_count": 141,
   "id": "2ecef5d7-6a95-4b21-b5dd-e67f08d39346",
   "metadata": {},
   "outputs": [
    {
     "name": "stdout",
     "output_type": "stream",
     "text": [
      "\n",
      "\n",
      "\u001b[1m> Entering new SequentialChain chain...\u001b[0m\n",
      "\n",
      "\u001b[1m> Finished chain.\u001b[0m\n"
     ]
    }
   ],
   "source": [
    "consul2 = overall_chain(chat2)"
   ]
  },
  {
   "cell_type": "code",
   "execution_count": 142,
   "id": "7a062bb5-906e-4244-befc-090dafcac498",
   "metadata": {},
   "outputs": [],
   "source": [
    "embeddings = VertexAIEmbeddings(\"textembedding-gecko@003\")"
   ]
  },
  {
   "cell_type": "code",
   "execution_count": 143,
   "id": "cf51c14a-aeff-4a62-aa04-52c0a78ce216",
   "metadata": {},
   "outputs": [],
   "source": [
    "import json"
   ]
  },
  {
   "cell_type": "code",
   "execution_count": 144,
   "id": "e7c54496-edb1-4a6b-9a88-e417beadccdb",
   "metadata": {},
   "outputs": [],
   "source": [
    "with open(\"consul1.json\", \"w\") as json_file:\n",
    "    json.dump(consul1, json_file)"
   ]
  },
  {
   "cell_type": "code",
   "execution_count": 145,
   "id": "bd551fd2-3e93-4260-8fa7-5e4682acf7f4",
   "metadata": {},
   "outputs": [],
   "source": [
    "from langchain_community.document_loaders import JSONLoader"
   ]
  },
  {
   "cell_type": "code",
   "execution_count": 146,
   "id": "198ecbb1-34f1-4957-a789-4d85a040faeb",
   "metadata": {},
   "outputs": [],
   "source": [
    "loader = JSONLoader(\n",
    "    file_path = \"/home/ext_ahmadpanduwiranata_gmail_com/Downloads/consul1.json\",\n",
    "    jq_schema='.',\n",
    "    text_content=False,\n",
    "    json_lines=True)\n",
    "\n",
    "data = loader.load()"
   ]
  },
  {
   "cell_type": "code",
   "execution_count": 147,
   "id": "c6f433b7-f941-47b9-9f88-00f00af80f19",
   "metadata": {},
   "outputs": [
    {
     "name": "stdout",
     "output_type": "stream",
     "text": [
      "page_content='{\"chat\": \"\\\\nDokter: klo bisa ditambah obat minumnya kka Pasien: obat apa ya dok? Dokter: maaf kk sdh menikah? Pasien: Sudah dok.. sedang menyusui Dokter: Usia anaknya? Pasien: Baru sebulan kurang seminggu dok Dokter: obat minumnya ctm 2x1 dimininum jika anaknya ada yang nunggu krn obat ini ngantuk Dokter: sama kk mandi PK y Pasien: Baik dok... berarti sama ctm ya dok Dokter: iy kka Pasien: Terimakasih dok.. ?? Dokter: hindarin makanan yg membuat kk alergi spt udang Dokter: sama 1 lg kka krn kulitnya kka sensitif, bedak sabun mandi body lotion semuanya pakai khusus /spt bayi Pasien: Kalau ceterizine sama ctm mending mana dong? Dirumah ada ceterizine. Dokter: Krn kk menyusui ctm aja ya Pasien: Ada rekomendasi ga dok bedak lotion dan sabun yang bagus? Pasien: Baik dok. Jadi ctm aja ya.. \\\\\\\\ \\\\nDokter: Pokoknya khusus bayi \\\\\\\\ \\\\nPasien: Baik dong... terima kasih dok.. ini sya pake salep ini berapa kalo pakai dok.? Dokter: Klo salep bebas mau dipakai berapa kali mis. habis mandi bisa disalepin Dokter: hnya pesan aja, jika mau disalepin dilap kering dulu \\\\\\\\ \\\\nPasien: Baik dok. Mohon resep dokternya ya dok.. terima kasih banyak ya dokter.. ?? Dokter: jngan hbs disalepin ditmpa dgn salep lg, \", \"Performa\": \" **Ringkasan Performa Dokter**\\\\n\\\\n**Sapaan:** Tidak ada sapaan dari dokter.\\\\n\\\\n**Respon dokter:** Dokter memberikan respon yang baik dan menjawab pertanyaan pasien dengan jelas.\\\\n\\\\n**Diagnosis:** Dokter memberikan diagnosis yang tepat berdasarkan gejala yang dialami pasien.\\\\n\\\\n**Saran:** Saran yang diberikan dokter berkaitan dengan keluhan pasien dan cukup lengkap. Dokter memberikan saran untuk minum obat, mandi dengan PK, menghindari makanan yang dapat menyebabkan alergi, dan menggunakan bedak, sabun mandi, dan body lotion khusus bayi. Dokter juga memberikan informasi tambahan tentang penggunaan salep.\\\\n\\\\n**Resep:** Dokter memberikan resep obat yang sesuai dengan diagnosis.\\\\n\\\\n**Kesimpulan:** Dokter memberikan pelayanan yang baik dan profesional. Dokter memberikan diagnosis yang tepat, saran yang lengkap, dan resep obat yang sesuai.\", \"Rate\": \" Berdasarkan 5 hal yang dinilai, saya memberikan rating 9/10 untuk dokter.\\\\n\\\\nDokter memberikan respon yang baik dan menjawab pertanyaan pasien dengan jelas. Dokter juga memberikan diagnosis yang tepat berdasarkan gejala yang dialami pasien. Saran yang diberikan dokter berkaitan dengan keluhan pasien dan cukup lengkap. Dokter memberikan saran untuk minum obat, mandi dengan PK, menghindari makanan yang dapat menyebabkan alergi, dan menggunakan bedak, sabun mandi, dan body lotion khusus bayi. Dokter juga memberikan informasi tambahan tentang penggunaan salep. Dokter memberikan resep obat yang sesuai dengan diagnosis.\\\\n\\\\nSecara keseluruhan, dokter memberikan pelayanan yang baik dan profesional.\"}' metadata={'source': '/home/ext_ahmadpanduwiranata_gmail_com/Downloads/consul1.json', 'seq_num': 1}\n"
     ]
    }
   ],
   "source": [
    "print(data[0])"
   ]
  },
  {
   "cell_type": "code",
   "execution_count": 148,
   "id": "aafb2955-1135-4ca2-92a7-01a9f7f16206",
   "metadata": {},
   "outputs": [],
   "source": [
    "#!rm -rf ./chroma\n",
    "persist_directory = './chroma/'"
   ]
  },
  {
   "cell_type": "code",
   "execution_count": 149,
   "id": "644b2380-a3f4-4d31-a857-9a993cad7c77",
   "metadata": {},
   "outputs": [],
   "source": [
    "from langchain.vectorstores import Chroma"
   ]
  },
  {
   "cell_type": "code",
   "execution_count": 150,
   "id": "231145d0-a521-4c68-8b42-9333370432b3",
   "metadata": {},
   "outputs": [],
   "source": [
    "vectordb = Chroma.from_documents(\n",
    "    documents = data, \n",
    "    embedding = embeddings,\n",
    "    persist_directory=persist_directory\n",
    ")"
   ]
  },
  {
   "cell_type": "code",
   "execution_count": 151,
   "id": "1dd454b3-68d2-45dc-886c-059d8b3205ef",
   "metadata": {},
   "outputs": [],
   "source": [
    "vectordb.persist()"
   ]
  },
  {
   "cell_type": "code",
   "execution_count": 155,
   "id": "541a222a-abc8-4fa1-8435-061098d1238f",
   "metadata": {},
   "outputs": [],
   "source": [
    "question = \"Berapa rate dokter?\""
   ]
  },
  {
   "cell_type": "code",
   "execution_count": 156,
   "id": "d2c40631-7017-4cfa-a3ec-fb9ca603af93",
   "metadata": {},
   "outputs": [],
   "source": [
    "hasil = vectordb.similarity_search(question, k=1)"
   ]
  },
  {
   "cell_type": "code",
   "execution_count": 163,
   "id": "c8faa5e6-a806-4850-afab-541347ddae04",
   "metadata": {},
   "outputs": [
    {
     "name": "stdout",
     "output_type": "stream",
     "text": [
      "page_content='{\"chat\": \"\\\\nDokter: klo bisa ditambah obat minumnya kka Pasien: obat apa ya dok? Dokter: maaf kk sdh menikah? Pasien: Sudah dok.. sedang menyusui Dokter: Usia anaknya? Pasien: Baru sebulan kurang seminggu dok Dokter: obat minumnya ctm 2x1 dimininum jika anaknya ada yang nunggu krn obat ini ngantuk Dokter: sama kk mandi PK y Pasien: Baik dok... berarti sama ctm ya dok Dokter: iy kka Pasien: Terimakasih dok.. ?? Dokter: hindarin makanan yg membuat kk alergi spt udang Dokter: sama 1 lg kka krn kulitnya kka sensitif, bedak sabun mandi body lotion semuanya pakai khusus /spt bayi Pasien: Kalau ceterizine sama ctm mending mana dong? Dirumah ada ceterizine. Dokter: Krn kk menyusui ctm aja ya Pasien: Ada rekomendasi ga dok bedak lotion dan sabun yang bagus? Pasien: Baik dok. Jadi ctm aja ya.. \\\\\\\\ \\\\nDokter: Pokoknya khusus bayi \\\\\\\\ \\\\nPasien: Baik dong... terima kasih dok.. ini sya pake salep ini berapa kalo pakai dok.? Dokter: Klo salep bebas mau dipakai berapa kali mis. habis mandi bisa disalepin Dokter: hnya pesan aja, jika mau disalepin dilap kering dulu \\\\\\\\ \\\\nPasien: Baik dok. Mohon resep dokternya ya dok.. terima kasih banyak ya dokter.. ?? Dokter: jngan hbs disalepin ditmpa dgn salep lg, \", \"Performa\": \" **Ringkasan Performa Dokter**\\\\n\\\\n**Sapaan:** Tidak ada sapaan dari dokter.\\\\n\\\\n**Respon dokter:** Dokter memberikan respon yang baik dan menjawab pertanyaan pasien dengan jelas.\\\\n\\\\n**Diagnosis:** Dokter memberikan diagnosis yang tepat berdasarkan gejala yang dialami pasien.\\\\n\\\\n**Saran:** Saran yang diberikan dokter berkaitan dengan keluhan pasien dan cukup lengkap. Dokter memberikan saran untuk minum obat, mandi dengan PK, menghindari makanan yang dapat menyebabkan alergi, dan menggunakan bedak, sabun mandi, dan body lotion khusus bayi. Dokter juga memberikan informasi tambahan tentang penggunaan salep.\\\\n\\\\n**Resep:** Dokter memberikan resep obat yang sesuai dengan diagnosis.\\\\n\\\\n**Kesimpulan:** Dokter memberikan pelayanan yang baik dan profesional. Dokter memberikan diagnosis yang tepat, saran yang lengkap, dan resep obat yang sesuai.\", \"Rate\": \" Berdasarkan 5 hal yang dinilai, saya memberikan rating 9/10 untuk dokter.\\\\n\\\\nDokter memberikan respon yang baik dan menjawab pertanyaan pasien dengan jelas. Dokter juga memberikan diagnosis yang tepat berdasarkan gejala yang dialami pasien. Saran yang diberikan dokter berkaitan dengan keluhan pasien dan cukup lengkap. Dokter memberikan saran untuk minum obat, mandi dengan PK, menghindari makanan yang dapat menyebabkan alergi, dan menggunakan bedak, sabun mandi, dan body lotion khusus bayi. Dokter juga memberikan informasi tambahan tentang penggunaan salep. Dokter memberikan resep obat yang sesuai dengan diagnosis.\\\\n\\\\nSecara keseluruhan, dokter memberikan pelayanan yang baik dan profesional.\"}' metadata={'seq_num': 1, 'source': '/home/ext_ahmadpanduwiranata_gmail_com/Downloads/consul1.json'} \n",
      "\n",
      "\n"
     ]
    }
   ],
   "source": [
    "for i in range (0, len(hasil)):\n",
    "    print(hasil[i-1], \"\\n\\n\")"
   ]
  },
  {
   "cell_type": "code",
   "execution_count": null,
   "id": "e07ef686-ff90-4d36-851e-6a93fe585f7a",
   "metadata": {},
   "outputs": [],
   "source": []
  },
  {
   "cell_type": "code",
   "execution_count": null,
   "id": "3b9d519c-ce01-4343-9823-e2e9ca2daa82",
   "metadata": {},
   "outputs": [],
   "source": []
  }
 ],
 "metadata": {
  "kernelspec": {
   "display_name": "Python 3 (ipykernel)",
   "language": "python",
   "name": "python3"
  },
  "language_info": {
   "codemirror_mode": {
    "name": "ipython",
    "version": 3
   },
   "file_extension": ".py",
   "mimetype": "text/x-python",
   "name": "python",
   "nbconvert_exporter": "python",
   "pygments_lexer": "ipython3",
   "version": "3.11.1"
  }
 },
 "nbformat": 4,
 "nbformat_minor": 5
}
